{
 "cells": [
  {
   "cell_type": "code",
   "execution_count": null,
   "id": "5bd6602d-e393-4f9b-adc0-7bf182cfade5",
   "metadata": {},
   "outputs": [],
   "source": [
    "Q1. How do you comment code in Python? What are the different types of comments?\n",
    "Ans:- In Python, I can add comments in my code to make it more readable and to explain what the code does. Comments are\n",
    "ignored by the Python interpreter and have no impact on the program's execution. To add comments in Python, I can use the\n",
    "hash symbol (#) followed by the comment text. Here's how I can do it:\n",
    "# This is a single-line comment in Python\n",
    "print(\"Hello, India!\")  # This is another comment after a line of code\n",
    "    There are two types of comments in Python:\n",
    "<i> Single-line comments: These comments are used to add remarks or explanations to a single line of code. They start with the\n",
    "hash symbol (#) and extend to the end of the line.\n",
    "Example:-\n",
    "# This is a single-line comment\n",
    "print(\"Hello, World!\")  # This is another single-line comment\n",
    "    \n",
    "<ii> Multi-line comments or docstrings: While Python does not have a specific syntax for multi-line comments, I can use triple\n",
    "quotes (''' or \"\"\") to create a multi-line string, also known as a docstring. Docstrings are often used to provide documentation\n",
    "for functions, classes, and modules.\n",
    "Example:-\n",
    "'''\n",
    "This is a multi-line comment\n",
    "that spans across multiple lines.\n",
    "'''\n",
    "print(\"Hello, World!\")\n",
    "\n",
    "\"\"\"\n",
    "This is another way to create\n",
    "a multi-line comment using double quotes.\n",
    "\"\"\"\n",
    "print(\"Hello again!\")\n"
   ]
  },
  {
   "cell_type": "code",
   "execution_count": null,
   "id": "64f70e14-695f-452f-a08c-c282f252e537",
   "metadata": {},
   "outputs": [],
   "source": []
  },
  {
   "cell_type": "code",
   "execution_count": null,
   "id": "2f082439-83e3-47d6-b235-9fa5badcae6f",
   "metadata": {},
   "outputs": [],
   "source": [
    "Q2. What are variables in Python? How do you declare and assign values to variables?\n",
    "Ans:- In Python, variables are used to store data values. They act as containers that hold references to objects in memory.\n",
    "Unlike some other programming languages, Python does not require explicit declaration of variables before use. We can create\n",
    "a variable simply by assigning a value to it.\n",
    "Here's how we declare and assign values to variables in Python:\n",
    " Syntax:\n",
    "# Variable declaration and assignment\n",
    "variable_name = value\n",
    "\n",
    " Examples:-\n",
    "name = \"John\"       # String variable\n",
    "age = 30            # Integer variable\n",
    "height = 5.11       # Float variable\n",
    "is_student = True   # Boolean variable"
   ]
  },
  {
   "cell_type": "code",
   "execution_count": null,
   "id": "9dbf9710-ab6e-48da-a76f-16d06a3f0c6c",
   "metadata": {},
   "outputs": [],
   "source": []
  },
  {
   "cell_type": "code",
   "execution_count": null,
   "id": "df53e53f-b907-4961-a940-95e4052546b2",
   "metadata": {},
   "outputs": [],
   "source": [
    "Q3. How do you convert one data type to another in Python?\n",
    "Ans:- In Python, I can convert one data type to another using type conversion functions or techniques. Python provides\n",
    "built-in functions for converting between different data types. Here are some common ways to perform data type conversion:\n",
    " 1. Using Built-in Functions:\n",
    "<I> int(): Convert to an integer.\n",
    "<II> float(): Convert to a floating-point number.\n",
    "<III> str(): Convert to a string.\n",
    "<IV> bool(): Convert to a boolean.\n",
    " Example:-\n",
    "# Convert to int\n",
    "num_str = \"25\"\n",
    "num_int = int(num_str)\n",
    "print(num_int)  # Output: 25\n",
    "\n",
    "# Convert to float\n",
    "pi_str = \"3.14159\"\n",
    "pi_float = float(pi_str)\n",
    "print(pi_float)  # Output: 3.14159\n",
    "\n",
    "# Convert to str\n",
    "value = 42\n",
    "value_str = str(value)\n",
    "print(value_str)  # Output: \"42\"\n",
    "\n",
    "# Convert to bool\n",
    "x = 0\n",
    "y = bool(x)\n",
    "print(y)  # Output: False\n",
    "\n",
    " 2. Using Type-specific Constructors:\n",
    "For some data types, you can use constructors to perform type conversion.\n",
    " Example:- \n",
    "# Convert to a list\n",
    "string = \"hello\"\n",
    "list_from_string = list(string)\n",
    "print(list_from_string)  # Output: ['h', 'e', 'l', 'l', 'o']\n",
    "\n",
    "# Convert to a tuple\n",
    "numbers = [1, 2, 3, 4]\n",
    "tuple_from_list = tuple(numbers)\n",
    "print(tuple_from_list)  # Output: (1, 2, 3, 4)\n",
    "\n",
    "# Convert to a set\n",
    "numbers = [1, 2, 2, 3, 3, 3, 4]\n",
    "set_from_list = set(numbers)\n",
    "print(set_from_list)  # Output: {1, 2, 3, 4}"
   ]
  },
  {
   "cell_type": "code",
   "execution_count": null,
   "id": "aea16992-c7a9-4328-af27-54aa780db272",
   "metadata": {},
   "outputs": [],
   "source": []
  },
  {
   "cell_type": "code",
   "execution_count": null,
   "id": "3ae7c6fe-c9c3-4849-a25e-bf87212399d6",
   "metadata": {},
   "outputs": [],
   "source": [
    "Q4. How do you write and execute a Python script from the command line?\n",
    "Ans:- These are the steps for write and execute a Python script from the command line:-\n",
    "    1. First, open a text editor. I can use basic editors like Notepad (on Windows) or more advanced code editors like\n",
    "Visual Studio Code, Sublime Text, Atom, etc. One importent thing is save the file by .py extension., which indicates it is a\n",
    "Python script.\n",
    "    2. Write Python Code: Write Python code in the text editor. For example, let's create a simple Python script that prints\n",
    "\"Hello, World!\" to the console: \n",
    "# This is a simple Python script (hello_world.py)\n",
    "print(\"Hello, World!\")\n",
    "    3. Save the File: Save the file with an appropriate name and the .py extension, for example, hello_world.py.\n",
    "    4. Open the Command Line: Open the command line or terminal on your operating system. On Windows, I can use the Command\n",
    "Prompt or PowerShell, and on macOS or Linux, I can use the Terminal.\n",
    "    5. Navigate to the Script's Directory: I can use the cd command (change directory) to navigate to the directory where I saved\n",
    "my Python script. For example, if my script is saved on the desktop, I can use the following command: \n",
    "# On Windows\n",
    "cd C:\\Users\\YourUsername\\Desktop\n",
    "# On macOS and Linux\n",
    "cd ~/Desktop\n",
    "    6. Run the Python Script: To execute the Python script, I can use the python command followed by the name of my script file. \n",
    "For example:\n",
    "python3 hello_world.py\n",
    "    7. See the Output: If everything is set up correctly, I will see the output of my Python script in the command line:\n",
    "Hello, World!\n"
   ]
  },
  {
   "cell_type": "code",
   "execution_count": null,
   "id": "c238158a-6080-4ca6-b790-aecfa8a6cacd",
   "metadata": {},
   "outputs": [],
   "source": []
  },
  {
   "cell_type": "code",
   "execution_count": null,
   "id": "53defb70-6599-4128-8e00-96fa9e66bb5a",
   "metadata": {},
   "outputs": [],
   "source": [
    "\n",
    "Q5. Given a list my_list = [1, 2, 3, 4, 5], write the code to slice the list and obtain the sub-list [2, 3].\n",
    "Ans:- To obtain the sub-list [2, 3] from the list my_list = [1, 2, 3, 4, 5], I can use Python's slicing feature. Slicing\n",
    "allows us to extract a portion of a list based on specified indices. In Python, list indices start at 0.\n",
    "    To get the sub-list [2, 3], I need to slice the original list from the index 1 (inclusive) to the index 3 (exclusive).\n",
    "Here's how can I do it:\n",
    "Example:- \n",
    "my_list = [1, 2, 3, 4, 5]\n",
    "sub_list = my_list[1:3]\n",
    "print(sub_list)  # Output: [2, 3]\n"
   ]
  },
  {
   "cell_type": "code",
   "execution_count": null,
   "id": "fb431124-7d7d-41a2-8bdf-92dfdc663695",
   "metadata": {},
   "outputs": [],
   "source": []
  },
  {
   "cell_type": "code",
   "execution_count": null,
   "id": "76eec355-93ce-4696-8dc7-518c4f1427a5",
   "metadata": {},
   "outputs": [],
   "source": [
    "Q6. What is a complex number in mathematics, and how is it represented in Python?\n",
    "Ans:- In mathematics, a complex number is a number that comprises both a real part and an imaginary part. It is written\n",
    "in the form \"a + bi,\" where \"a\" represents the real part, \"b\" represents the imaginary part, and \"i\" is the imaginary unit.\n",
    "The real part and the imaginary part can be any real numbers.\n",
    "    In Python, complex numbers are supported as a built-in data type. They can be represented using the complex() function\n",
    "or by directly specifying the real and imaginary parts in the form \"a + bj\" or \"a + bj\", where \"a\" is the real part, and \"b\"\n",
    "is the imaginary part.\n",
    "Example in Python:- \n",
    "# Using complex() function\n",
    "c1 = complex(2,6)\n",
    "# Using Direct representation\n",
    "c2 = 2 + 6j"
   ]
  },
  {
   "cell_type": "code",
   "execution_count": null,
   "id": "c5b4660a-1f36-4816-af9b-27df10107178",
   "metadata": {},
   "outputs": [],
   "source": []
  },
  {
   "cell_type": "code",
   "execution_count": null,
   "id": "4974d139-a55f-47b6-80e7-bf87d9bf21bc",
   "metadata": {},
   "outputs": [],
   "source": [
    "Q7. What is the correct way to declare a variable named age and assign the value 25 to it?\n",
    "Ans:- The correct way to declare a variable named age and assign the value 25 to it in Python is as follows:\n",
    " age = 25\n",
    "    In Python, we do not need to explicitly declare the data type of the variable during its declaration. Python will \n",
    "automatically infer the data type based on the value assigned to the variable.\n",
    "\n"
   ]
  },
  {
   "cell_type": "code",
   "execution_count": null,
   "id": "0d5f18df-3902-4555-8434-fb8b8e8c0fba",
   "metadata": {},
   "outputs": [],
   "source": []
  },
  {
   "cell_type": "code",
   "execution_count": null,
   "id": "66a80c2a-63de-44b0-b44b-f5bddd95821d",
   "metadata": {},
   "outputs": [],
   "source": [
    "Q8. Declare a variable named price and assign the value 9.99 to it. What data type does this variable\n",
    "belong to?\n",
    "Ans:- After declaring the variable price and assigning the value 9.99 to it in Python, the data type of the variable will\n",
    "be a floating-point number (float).\n",
    "Here's the code to declare the variable and assign the value:\n",
    "Code:-  \n",
    "price = 9.99\n"
   ]
  },
  {
   "cell_type": "code",
   "execution_count": null,
   "id": "95210c7b-0b45-4f38-aaac-75b80c0841f8",
   "metadata": {},
   "outputs": [],
   "source": []
  },
  {
   "cell_type": "code",
   "execution_count": null,
   "id": "00694e01-5524-493e-825e-127cd8e295e2",
   "metadata": {},
   "outputs": [],
   "source": [
    "Q9. Create a variable named name and assign your full name to it as a string. How would you print the\n",
    "value of this variable?\n",
    "Ans:- All code are given below:-\n",
    "Code:-\n",
    "name = \"Ashfak Hussain Barbhuiya\"\n",
    "print(name)\n",
    "#Output: Ashfak Hussain Barbhuiya"
   ]
  },
  {
   "cell_type": "code",
   "execution_count": null,
   "id": "2422b587-32b8-4b3c-8b25-0cf4292e32c2",
   "metadata": {},
   "outputs": [],
   "source": []
  },
  {
   "cell_type": "code",
   "execution_count": null,
   "id": "428921d7-bf82-45bc-8505-75ffd143c438",
   "metadata": {},
   "outputs": [],
   "source": [
    "Q10. Given the string \"Hello, World!\", extract the substring \"World\".\n",
    "Ans:- All code are given below:- \n",
    "Code:-\n",
    "s1 = \"Hello World!\"\n",
    "s2 = s1[6:11]"
   ]
  },
  {
   "cell_type": "code",
   "execution_count": null,
   "id": "768c26f4-6504-4ba9-ab07-3988b5d7f932",
   "metadata": {},
   "outputs": [],
   "source": []
  },
  {
   "cell_type": "code",
   "execution_count": null,
   "id": "b4753dea-7196-495f-95ff-64e10f6652b3",
   "metadata": {},
   "outputs": [],
   "source": [
    "Q11. Create a variable named \"is_student\" and assign it a boolean value indicating whether you are\n",
    "currently a student or not.\n",
    "Ans:- Sure! To create a variable named is_student and assign it a boolean value indicating whether I am currently a\n",
    "student or not, I can use the True or False literals. For this example, let's assume I am a student, so we'll assign\n",
    "the value True to the is_student variable:\n",
    "Code:- is_student = True\n",
    "    If I am not a student, I can assign False to the variable:\n",
    "Code:- is_student = False"
   ]
  },
  {
   "cell_type": "code",
   "execution_count": null,
   "id": "5b260f20-4899-41b2-bd8d-30b99cf6ccf0",
   "metadata": {},
   "outputs": [],
   "source": []
  }
 ],
 "metadata": {
  "kernelspec": {
   "display_name": "Python 3 (ipykernel)",
   "language": "python",
   "name": "python3"
  },
  "language_info": {
   "codemirror_mode": {
    "name": "ipython",
    "version": 3
   },
   "file_extension": ".py",
   "mimetype": "text/x-python",
   "name": "python",
   "nbconvert_exporter": "python",
   "pygments_lexer": "ipython3",
   "version": "3.10.8"
  }
 },
 "nbformat": 4,
 "nbformat_minor": 5
}
